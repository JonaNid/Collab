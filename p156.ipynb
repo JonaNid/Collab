{
  "nbformat": 4,
  "nbformat_minor": 0,
  "metadata": {
    "colab": {
      "provenance": [],
      "authorship_tag": "ABX9TyPrbdurL9f7eWlIy5NDayAb",
      "include_colab_link": true
    },
    "kernelspec": {
      "name": "python3",
      "display_name": "Python 3"
    },
    "language_info": {
      "name": "python"
    }
  },
  "cells": [
    {
      "cell_type": "markdown",
      "metadata": {
        "id": "view-in-github",
        "colab_type": "text"
      },
      "source": [
        "<a href=\"https://colab.research.google.com/github/JonaNid/Collab/blob/main/p156.ipynb\" target=\"_parent\"><img src=\"https://colab.research.google.com/assets/colab-badge.svg\" alt=\"Open In Colab\"/></a>"
      ]
    },
    {
      "cell_type": "code",
      "execution_count": 9,
      "metadata": {
        "id": "_uglG87NeLhQ"
      },
      "outputs": [],
      "source": [
        "class Vector(object):\n",
        "  def __init__(self,x=0, y=0, z=0):\n",
        "    self.x = x\n",
        "    self.y = y\n",
        "    self.z = z\n",
        "\n",
        "  def __repr__(self):\n",
        "    return 'Vector(%r,%r,%r)' % (self.x, self.y, self.z)\n",
        "\n",
        "  def __abs__(self):\n",
        "    return(self.x ** 2 + self.y ** 2+ self.z ** 2) ** 0.5\n",
        "\n",
        "  def __bool__(self):\n",
        "    return bool(abs(self))\n",
        "\n",
        "  def __add__(self, other):\n",
        "    x = self.x + other.x\n",
        "    y = self.y + other.y\n",
        "    z = self.z + other.z\n",
        "    return Vector(x,y,z)\n",
        "\n",
        "  def __mul__(self,scalar):\n",
        "    return Vector( self.x * scalar , self.y * scalar, self.z * scalar)\n",
        "\n",
        "  def __len__(self):\n",
        "    return 3\n",
        "\n",
        "  def __gettime__(self,i):\n",
        "    if i in [0, -3]: return self.x\n",
        "    elif i in [1,-2]: return self.y\n",
        "    elif i in [2,-1]: return self.z\n",
        "    else: raise IndexError('Index out of page')\n",
        "\n",
        "  def __iter__(self):\n",
        "    for i in range(len(self)):\n",
        "      yield self[i]  #cos'é yield?\n",
        "\n",
        "\n",
        "\n"
      ]
    },
    {
      "cell_type": "code",
      "source": [
        "v= Vector(1,2,-1)\n",
        "repr(v)"
      ],
      "metadata": {
        "colab": {
          "base_uri": "https://localhost:8080/",
          "height": 35
        },
        "id": "2KvN0gpegjqm",
        "outputId": "3c285704-5453-4819-acd4-82f6603c17ad"
      },
      "execution_count": 18,
      "outputs": [
        {
          "output_type": "execute_result",
          "data": {
            "text/plain": [
              "'Vector(1,2,-1)'"
            ],
            "application/vnd.google.colaboratory.intrinsic+json": {
              "type": "string"
            }
          },
          "metadata": {},
          "execution_count": 18
        }
      ]
    },
    {
      "cell_type": "code",
      "source": [
        "abs(v)"
      ],
      "metadata": {
        "colab": {
          "base_uri": "https://localhost:8080/"
        },
        "id": "Z2BnpqtUlwUa",
        "outputId": "bfca2927-bbea-4a54-d784-68b29bd44cb7"
      },
      "execution_count": 17,
      "outputs": [
        {
          "output_type": "execute_result",
          "data": {
            "text/plain": [
              "2.449489742783178"
            ]
          },
          "metadata": {},
          "execution_count": 17
        }
      ]
    },
    {
      "cell_type": "code",
      "source": [
        "len(v)"
      ],
      "metadata": {
        "colab": {
          "base_uri": "https://localhost:8080/"
        },
        "id": "hmtXtTVYlRNU",
        "outputId": "93d6a790-8d0f-4e9b-8c6a-e3507e1b89ff"
      },
      "execution_count": 19,
      "outputs": [
        {
          "output_type": "execute_result",
          "data": {
            "text/plain": [
              "3"
            ]
          },
          "metadata": {},
          "execution_count": 19
        }
      ]
    },
    {
      "cell_type": "code",
      "source": [
        "v*5 # we dont write mul(v,5) non ho capito bene perché, mi sa che centra con functions and operators"
      ],
      "metadata": {
        "colab": {
          "base_uri": "https://localhost:8080/"
        },
        "id": "3A5E7-QwlVgL",
        "outputId": "5972769c-40eb-4adb-d0cd-e936f59ca132"
      },
      "execution_count": 20,
      "outputs": [
        {
          "output_type": "execute_result",
          "data": {
            "text/plain": [
              "Vector(5,10,-5)"
            ]
          },
          "metadata": {},
          "execution_count": 20
        }
      ]
    },
    {
      "cell_type": "code",
      "source": [],
      "metadata": {
        "id": "fLRFxMyclVWE"
      },
      "execution_count": null,
      "outputs": []
    }
  ]
}