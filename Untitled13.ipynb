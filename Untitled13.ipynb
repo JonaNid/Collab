{
  "nbformat": 4,
  "nbformat_minor": 0,
  "metadata": {
    "colab": {
      "provenance": [],
      "authorship_tag": "ABX9TyMsrsCeIdzveYICCuRZS6KC",
      "include_colab_link": true
    },
    "kernelspec": {
      "name": "python3",
      "display_name": "Python 3"
    },
    "language_info": {
      "name": "python"
    }
  },
  "cells": [
    {
      "cell_type": "markdown",
      "metadata": {
        "id": "view-in-github",
        "colab_type": "text"
      },
      "source": [
        "<a href=\"https://colab.research.google.com/github/JonaNid/Collab/blob/main/Untitled13.ipynb\" target=\"_parent\"><img src=\"https://colab.research.google.com/assets/colab-badge.svg\" alt=\"Open In Colab\"/></a>"
      ]
    },
    {
      "cell_type": "code",
      "execution_count": 7,
      "metadata": {
        "colab": {
          "base_uri": "https://localhost:8080/"
        },
        "id": "_uglG87NeLhQ",
        "outputId": "a1d35575-b3b0-4a50-dcb3-bd434efd743d"
      },
      "outputs": [
        {
          "output_type": "execute_result",
          "data": {
            "text/plain": [
              "2.449489742783178"
            ]
          },
          "metadata": {},
          "execution_count": 7
        }
      ],
      "source": [
        "class Vector(object):\n",
        "  def __init__(self,x=0, y=0, z=0):\n",
        "    self.x = x\n",
        "    self.y = y\n",
        "    self.z = z\n",
        "\n",
        "  def __repr__(self):\n",
        "    return 'Vector(%r,%r,%r)' % (self.x, self.y, self.z)\n",
        "\n",
        "  def __abs__(self):\n",
        "    return(self.x ** 2 + self.y ** 2+ self.z ** 2) ** 0.5\n",
        "\n",
        "  def __bool_(self):\n",
        "    return bool(abs(self))\n",
        "\n",
        "  def __add__(self, other):\n",
        "    x = self.x + other.x\n",
        "    y = self.y + other.y\n",
        "    z = self.z + other.z\n",
        "    return Vector(x,y,z)\n",
        "\n",
        "  def __mul__(self,scalar):\n",
        "    return Vector( self.x * scalar , self.y * scalar, self.z * scalar)\n",
        "\n",
        "  def __len__(self):\n",
        "    return 3\n",
        "\n",
        "  def __gettime__(self,i):\n",
        "    if i in [0, -3]: return self.x\n",
        "    elif i in [1,-2]: return self.y\n",
        "    elif i in [2,-1]: return self.z\n",
        "    else: raise IndexError('Index out of page')\n",
        "\n",
        "  def __iter__(self):\n",
        "    for i in range(len(self)):\n",
        "      yield self[i]  #cos'é yield?\n",
        "\n",
        "\n",
        "\n"
      ]
    },
    {
      "cell_type": "code",
      "source": [
        "v= Vector(1,2,-1)\n",
        "repr(v)\n",
        "abs(v)"
      ],
      "metadata": {
        "id": "2KvN0gpegjqm"
      },
      "execution_count": null,
      "outputs": []
    }
  ]
}